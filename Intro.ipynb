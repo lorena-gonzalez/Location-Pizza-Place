{
 "cells": [
  {
   "cell_type": "markdown",
   "metadata": {},
   "source": [
    "# Location Pizza place"
   ]
  },
  {
   "cell_type": "markdown",
   "metadata": {},
   "source": [
    "### Description of the project\n",
    "\n",
    "The main objective of the project is to select in which *comuna* (borough in english) will be best to put a pizza place in Santiago, Chile, making a comparison with the information obtained with the city of New York.\n",
    "\n",
    "This problem is chose to help people and entrepreneurs with the idea of making a new business to take decisions regarding to location easily and more informed.\n",
    "\n",
    "In the first part of the project I need to create a Dataframe with the geolocation of the different *comunas* in Santiago, Chile, to then proceed to analize the information available in them with Foursquare focussing in pizza places and their ratings. \n",
    "\n",
    "Then is necessary to make the same analysis with the city of New York and look for characteristics in the boroughs which have the biggest quantity of pizza places and with the best ratings to find the best *comuna* to put a pizza place in Santiago by comparing it with the information obtained with the city of New York."
   ]
  },
  {
   "cell_type": "code",
   "execution_count": null,
   "metadata": {},
   "outputs": [],
   "source": []
  }
 ],
 "metadata": {
  "kernelspec": {
   "display_name": "Python 3",
   "language": "python",
   "name": "python3"
  },
  "language_info": {
   "codemirror_mode": {
    "name": "ipython",
    "version": 3
   },
   "file_extension": ".py",
   "mimetype": "text/x-python",
   "name": "python",
   "nbconvert_exporter": "python",
   "pygments_lexer": "ipython3",
   "version": "3.7.4"
  }
 },
 "nbformat": 4,
 "nbformat_minor": 2
}
